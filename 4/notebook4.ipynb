{
 "cells": [
  {
   "cell_type": "markdown",
   "metadata": {
    "_cell_guid": "d524ad8f-d024-4ba3-8bbc-2435ec3d0dba",
    "_uuid": "7bb30a6f2a18be45a491092a6e2dfcdcce71a2a0"
   },
   "source": [
    "## File Structure\n",
    "\n",
    "\n",
    "Suppose we have following project structure:\n",
    "```\n",
    ".\n",
    "├── data\n",
    "│   ├── test            # extracted\n",
    "│   │   └── audio          # all test\n",
    "│   ├── test.7z         # downloaded\n",
    "│   ├── train           # extracted\n",
    "│   │   ├── audio          # folder with all train command/file.wav\n",
    "│   │   ├── LICENSE\n",
    "│   │   ├── README.md\n",
    "│   │   ├── testing_list.txt\n",
    "│   │   └── validation_list.txt\n",
    "│   └── train.7z         # downloaded\n",
    "├── kernel.ipynb      # this ipynb  \n",
    "└── model-k           # folder for model, checkpoints, logs and submission.csv\n",
    "```\n",
    "\n",
    "\n",
    "## Appendix\n",
    "Thanks __DavidS__ and __Alex Ozerin__ for their great notebooks!"
   ]
  },
  {
   "cell_type": "code",
   "execution_count": 38,
   "metadata": {
    "_cell_guid": "f7fd8bcb-4451-4d47-bfe8-491c94b3b4eb",
    "_uuid": "712710f20b00f97271136cfeab9937a4c6a2458b"
   },
   "outputs": [],
   "source": [
    "import os\n",
    "import re\n",
    "import gc\n",
    "import torch\n",
    "import time\n",
    "import random\n",
    "import numpy as np\n",
    "import pandas as pd\n",
    "from torch import nn\n",
    "from glob import glob\n",
    "from scipy import signal\n",
    "from pylab import rcParams\n",
    "import torch.optim as optim\n",
    "from scipy.io import wavfile\n",
    "from scipy.fftpack import fft\n",
    "from tqdm import tqdm_notebook\n",
    "import matplotlib.pyplot as plt\n",
    "import torch.nn.functional as F\n",
    "import torch.utils.data as utils\n",
    "from torchvision import transforms\n",
    "from torch.autograd import Variable\n",
    "from sklearn.datasets.lfw import Bunch\n",
    "from sklearn.metrics import precision_score\n",
    "from torch.utils.data import Dataset, DataLoader\n",
    "from sklearn.model_selection import train_test_split"
   ]
  },
  {
   "cell_type": "markdown",
   "metadata": {
    "_cell_guid": "fb35a2f1-9301-4693-a9ef-9d180b630f05",
    "_uuid": "4b1ba61998e14e15c822c605dbe5961bfed36014"
   },
   "source": [
    "The original sample rate is 16000, and we will resample it to 8000 to reduce data size."
   ]
  },
  {
   "cell_type": "code",
   "execution_count": 2,
   "metadata": {
    "_cell_guid": "dc66e1df-f1eb-4df4-ba1a-65b9f1675953",
    "_uuid": "4cc586519523b28d1d595716d8709ace9f27ac9c"
   },
   "outputs": [],
   "source": [
    "L = 16000\n",
    "legal_labels = 'yes no up down left right on off stop go silence unknown'.split()\n",
    "\n",
    "#src folders\n",
    "root_path = r'.'\n",
    "out_path = r'.'\n",
    "model_path = r'.'\n",
    "train_data_path = os.path.join(root_path, 'data', 'train', 'audio')\n",
    "test_data_path = os.path.join(root_path, 'data', 'test', 'audio')"
   ]
  },
  {
   "cell_type": "markdown",
   "metadata": {
    "_cell_guid": "e53561e4-1c98-44c0-9245-d87f7957faa5",
    "_uuid": "d9a08781f22e574bb1eb0dc29adeb8dddebc8b51"
   },
   "source": [
    "Here are custom_fft and log_specgram functions written by __DavidS__."
   ]
  },
  {
   "cell_type": "code",
   "execution_count": 3,
   "metadata": {
    "_cell_guid": "0fd0b579-8b6f-4253-bf3a-7f75115a42d6",
    "_uuid": "e7ea2c277b6459e532721452ec3cd80d585eae1e"
   },
   "outputs": [],
   "source": [
    "def custom_fft(y, fs):\n",
    "    T = 1.0 / fs\n",
    "    N = y.shape[0]\n",
    "    yf = fft(y)\n",
    "    xf = np.linspace(0.0, 1.0/(2.0*T), N//2)\n",
    "    # FFT is simmetrical, so we take just the first half\n",
    "    # FFT is also complex, to we take just the real part (abs)\n",
    "    vals = 2.0/N * np.abs(yf[0:N//2])\n",
    "    return xf, vals\n",
    "\n",
    "def log_specgram(audio, sample_rate, window_size=20,\n",
    "                 step_size=10, eps=1e-10):\n",
    "    nperseg = int(round(window_size * sample_rate / 1e3))\n",
    "    noverlap = int(round(step_size * sample_rate / 1e3))\n",
    "    freqs, times, spec = signal.spectrogram(audio,\n",
    "                                    fs=sample_rate,\n",
    "                                    window='hann',\n",
    "                                    nperseg=nperseg,\n",
    "                                    noverlap=noverlap,\n",
    "                                    detrend=False)\n",
    "    return freqs, times, np.log(spec.T.astype(np.float32) + eps)"
   ]
  },
  {
   "cell_type": "markdown",
   "metadata": {
    "_cell_guid": "c54cda36-777e-4129-bac1-af2d1ed2706e",
    "_uuid": "5a04e71fe7e66e1a31835feebdfef4c63920faf8"
   },
   "source": [
    "Following is the utility function to grab all wav files inside train data folder."
   ]
  },
  {
   "cell_type": "code",
   "execution_count": 4,
   "metadata": {
    "_cell_guid": "956f3150-544d-46ed-b0ec-da1c1fb142b4",
    "_uuid": "964d71a229e9d4560b9118fa1c80804ebf8d6be8"
   },
   "outputs": [],
   "source": [
    "def list_wavs_fname(dirpath, ext='wav'):\n",
    "    print(dirpath)\n",
    "    fpaths = glob(os.path.join(dirpath, r'*/*' + ext))\n",
    "    pat = r'.+/(\\w+)/\\w+\\.' + ext + '$'\n",
    "    labels = []\n",
    "    for fpath in fpaths:\n",
    "        r = re.match(pat, fpath)\n",
    "        if r:\n",
    "            labels.append(r.group(1))\n",
    "    pat = r'.+/(\\w+\\.' + ext + ')$'\n",
    "    fnames = []\n",
    "    for fpath in fpaths:\n",
    "        r = re.match(pat, fpath)\n",
    "        if r:\n",
    "            fnames.append(r.group(1))\n",
    "    return labels, fnames"
   ]
  },
  {
   "cell_type": "markdown",
   "metadata": {
    "_cell_guid": "41025a55-8497-43cf-b316-003af7d9d19f",
    "_uuid": "fc18e87793888952e81a867dd95b1dcc455f9932"
   },
   "source": [
    "__pad_audio__ will pad audios that are less than 16000(1 second) with 0s to make them all have the same length.\n",
    "\n",
    "__chop_audio__ will chop audios that are larger than 16000(eg. wav files in background noises folder) to 16000 in length. In addition, it will create several chunks out of one large wav files given the parameter 'num'.\n",
    "\n",
    "__label_transform__ transform labels into dummies values. It's used in combination with softmax to predict the label."
   ]
  },
  {
   "cell_type": "code",
   "execution_count": 5,
   "metadata": {
    "_cell_guid": "200c34a1-851a-4447-9ff7-b4e541f090c6",
    "_uuid": "94e40aef3899acfd3ed85557caa66fee5dd47db2"
   },
   "outputs": [],
   "source": [
    "def pad_audio(samples):\n",
    "    if len(samples) >= L: return samples\n",
    "    else: return np.pad(samples, pad_width=(L - len(samples), 0), mode='constant', constant_values=(0, 0))\n",
    "\n",
    "def chop_audio(samples, L=16000, num=20):\n",
    "    for i in range(num):\n",
    "        beg = np.random.randint(0, len(samples) - L)\n",
    "        yield samples[beg: beg + L]\n",
    "\n",
    "def label_transform(labels):\n",
    "    nlabels = []\n",
    "    for label in labels:\n",
    "        if label == '_background_noise_':\n",
    "            nlabels.append('silence')\n",
    "        elif label not in legal_labels:\n",
    "            nlabels.append('unknown')\n",
    "        else:\n",
    "            nlabels.append(label)\n",
    "    return pd.get_dummies(pd.Series(nlabels))"
   ]
  },
  {
   "cell_type": "markdown",
   "metadata": {
    "_cell_guid": "dae2a45a-f7ab-4e84-bc73-688eda6eca8e",
    "_uuid": "267314ef41c459c8b6ab903d721980fdd62b4106"
   },
   "source": [
    "Next, we use functions declared above to generate x_train and y_train.\n",
    "label_index is the index used by pandas to create dummy values, we need to save it for later use."
   ]
  },
  {
   "cell_type": "code",
   "execution_count": 6,
   "metadata": {
    "_cell_guid": "4c8d9fdf-ea3e-45fa-b7ef-52542c70b9db",
    "_uuid": "81bc9722dfb036c73721ae44829d429489662e75"
   },
   "outputs": [
    {
     "name": "stdout",
     "output_type": "stream",
     "text": [
      "./data/train/audio\n"
     ]
    },
    {
     "name": "stderr",
     "output_type": "stream",
     "text": [
      "/home/malysheva/miniconda3/envs/py36/lib/python3.6/site-packages/scipy/io/wavfile.py:273: WavFileWarning: Chunk (non-data) not understood, skipping it.\n",
      "  WavFileWarning)\n"
     ]
    },
    {
     "name": "stdout",
     "output_type": "stream",
     "text": [
      "CPU times: user 6min 17s, sys: 22.7 s, total: 6min 40s\n",
      "Wall time: 1min 41s\n"
     ]
    }
   ],
   "source": [
    "%%time\n",
    "labels, fnames = list_wavs_fname(train_data_path)\n",
    "\n",
    "new_sample_rate = 8000\n",
    "y = []\n",
    "X = []\n",
    "\n",
    "for label, fname in zip(labels, fnames):\n",
    "    sample_rate, samples = wavfile.read(os.path.join(train_data_path, label, fname))\n",
    "    samples = pad_audio(samples)\n",
    "    if len(samples) > 16000:\n",
    "        n_samples = chop_audio(samples)\n",
    "    else: n_samples = [samples]\n",
    "    for samples in n_samples:\n",
    "        resampled = signal.resample(samples, int(new_sample_rate / sample_rate * samples.shape[0]))\n",
    "        _, _, specgram = log_specgram(resampled, sample_rate=new_sample_rate)\n",
    "        y.append(label)\n",
    "        X.append(specgram)\n",
    "X = np.array(X)\n",
    "X = X.reshape(tuple(list(X.shape) + [1]))\n",
    "y = label_transform(y)\n",
    "label_index = y.columns.values\n",
    "y = y.values\n",
    "y = np.array(y)\n",
    "del labels, fnames\n",
    "gc.collect()"
   ]
  },
  {
   "cell_type": "code",
   "execution_count": 7,
   "metadata": {},
   "outputs": [],
   "source": [
    "x_train, x_valid, y_train, y_valid = train_test_split(X, y, test_size=0.1, random_state=0)"
   ]
  },
  {
   "cell_type": "code",
   "execution_count": 8,
   "metadata": {},
   "outputs": [
    {
     "data": {
      "text/plain": [
       "((64841, 99, 81, 1), (64841, 12))"
      ]
     },
     "execution_count": 8,
     "metadata": {},
     "output_type": "execute_result"
    }
   ],
   "source": [
    "X.shape, y.shape"
   ]
  },
  {
   "cell_type": "markdown",
   "metadata": {},
   "source": [
    "## Pytorch"
   ]
  },
  {
   "cell_type": "markdown",
   "metadata": {
    "_cell_guid": "56921cf3-1269-4b29-876d-abdd31eb150a",
    "_uuid": "a87a77b76c42da61ca0bec395c71bef795a9e928"
   },
   "source": [
    "CNN declared below.\n",
    "The specgram created will be of shape (99, 81), but in order to fit into Conv2D layer, we need to reshape it."
   ]
  },
  {
   "cell_type": "code",
   "execution_count": 34,
   "metadata": {},
   "outputs": [],
   "source": [
    "num_epochs = 2\n",
    "learning_rate = 0.001\n",
    "nclass = 12\n",
    "batch_size = 16"
   ]
  },
  {
   "cell_type": "code",
   "execution_count": 16,
   "metadata": {},
   "outputs": [],
   "source": [
    "class CNN(nn.Module):\n",
    "    def __init__(self):\n",
    "        super().__init__()\n",
    "        \n",
    "        self.cnn = nn.Sequential(\n",
    "            nn.Conv2d(1, 8, 2),\n",
    "            nn.Conv2d(8, 8, 2),\n",
    "            nn.MaxPool2d(2),\n",
    "            nn.Dropout2d(0.2),\n",
    "            nn.Conv2d(8, 16, 3),\n",
    "            nn.Conv2d(16, 16, 3),\n",
    "            nn.MaxPool2d(2),\n",
    "            nn.Dropout2d(p=0.2),\n",
    "            nn.Conv2d(16, 32, 3),\n",
    "            nn.MaxPool2d(2),\n",
    "            nn.Dropout2d(p=0.2)\n",
    "        )\n",
    "        \n",
    "        self.out = nn.Sequential(\n",
    "            nn.Linear(2240, 128),\n",
    "            nn.BatchNorm1d(128),\n",
    "            nn.Linear(128, nclass)\n",
    "        )\n",
    "    \n",
    "    def forward(self, x):\n",
    "        out = self.cnn(x)\n",
    "        out = out.view(out.size(0), -1)\n",
    "        return self.out(out)"
   ]
  },
  {
   "cell_type": "code",
   "execution_count": 17,
   "metadata": {},
   "outputs": [
    {
     "data": {
      "text/plain": [
       "(58356, 58356)"
      ]
     },
     "execution_count": 17,
     "metadata": {},
     "output_type": "execute_result"
    }
   ],
   "source": [
    "tensor_X = torch.stack([torch.FloatTensor(x.transpose((2, 0, 1))) for x in x_train])\n",
    "tensor_y = torch.LongTensor([int(y.argmax()) for y in y_train])\n",
    "tensor_y.size(0), tensor_X.size(0)"
   ]
  },
  {
   "cell_type": "code",
   "execution_count": 18,
   "metadata": {},
   "outputs": [],
   "source": [
    "train_dataset = utils.TensorDataset(tensor_X, tensor_y)\n",
    "train_loader = DataLoader(dataset=train_dataset, batch_size=batch_size, shuffle=True, num_workers=2, drop_last=True)"
   ]
  },
  {
   "cell_type": "code",
   "execution_count": 35,
   "metadata": {},
   "outputs": [
    {
     "data": {
      "application/vnd.jupyter.widget-view+json": {
       "model_id": "104446cc9df1428ab5147dc6f58d161b",
       "version_major": 2,
       "version_minor": 0
      },
      "text/plain": [
       "HBox(children=(IntProgress(value=0, max=3647), HTML(value='')))"
      ]
     },
     "metadata": {},
     "output_type": "display_data"
    },
    {
     "name": "stdout",
     "output_type": "stream",
     "text": [
      "Iter number 0 Loss: 2.5014357566833496\n",
      "\n",
      "Iter number 100 Loss: 1.7110211849212646\n",
      "Iter number 200 Loss: 1.131559133529663\n",
      "Iter number 300 Loss: 1.1592051982879639\n",
      "Iter number 400 Loss: 1.5091407299041748\n",
      "Iter number 500 Loss: 0.7984410524368286\n",
      "Iter number 600 Loss: 1.318733811378479\n",
      "Iter number 700 Loss: 1.1931114196777344\n",
      "Iter number 800 Loss: 1.0480334758758545\n",
      "Iter number 900 Loss: 1.7127751111984253\n",
      "Iter number 1000 Loss: 0.9651362895965576\n",
      "Iter number 1100 Loss: 1.0541030168533325\n",
      "Iter number 1200 Loss: 1.574629545211792\n",
      "Iter number 1300 Loss: 1.8510817289352417\n",
      "Iter number 1400 Loss: 1.0902281999588013\n",
      "Iter number 1500 Loss: 1.151135802268982\n",
      "Iter number 1600 Loss: 1.1689348220825195\n",
      "Iter number 1700 Loss: 1.471021056175232\n",
      "Iter number 1800 Loss: 0.8601767420768738\n",
      "Iter number 1900 Loss: 1.4263067245483398\n",
      "Iter number 2000 Loss: 1.0394508838653564\n",
      "Iter number 2100 Loss: 2.0021798610687256\n",
      "Iter number 2200 Loss: 1.2972180843353271\n",
      "Iter number 2300 Loss: 1.1666806936264038\n",
      "Iter number 2400 Loss: 1.4182254076004028\n",
      "Iter number 2500 Loss: 0.8923717737197876\n",
      "Iter number 2600 Loss: 0.9963620901107788\n",
      "Iter number 2700 Loss: 1.2428028583526611\n",
      "Iter number 2800 Loss: 0.7010593414306641\n",
      "Iter number 2900 Loss: 1.6390939950942993\n",
      "Iter number 3000 Loss: 1.5973668098449707\n",
      "Iter number 3100 Loss: 1.2917814254760742\n",
      "Iter number 3200 Loss: 1.3275723457336426\n",
      "Iter number 3300 Loss: 2.1555213928222656\n",
      "Iter number 3400 Loss: 1.0232412815093994\n",
      "Iter number 3500 Loss: 0.9766627550125122\n",
      "Iter number 3600 Loss: 0.777485191822052\n",
      "\n",
      "Epoch number 0 Loss: 1.536973476409912\n"
     ]
    },
    {
     "data": {
      "application/vnd.jupyter.widget-view+json": {
       "model_id": "6ffb691d06e14d8d9820a608b5b26ed3",
       "version_major": 2,
       "version_minor": 0
      },
      "text/plain": [
       "HBox(children=(IntProgress(value=0, max=3647), HTML(value='')))"
      ]
     },
     "metadata": {},
     "output_type": "display_data"
    },
    {
     "name": "stdout",
     "output_type": "stream",
     "text": [
      "Iter number 0 Loss: 0.9321805834770203\n",
      "Iter number 100 Loss: 0.8583245277404785\n",
      "Iter number 200 Loss: 1.375566005706787\n",
      "Iter number 300 Loss: 1.2283364534378052\n",
      "Iter number 400 Loss: 1.2183163166046143\n",
      "Iter number 500 Loss: 1.2005598545074463\n",
      "Iter number 600 Loss: 1.0201680660247803\n",
      "Iter number 700 Loss: 1.16251802444458\n",
      "Iter number 800 Loss: 0.5628142356872559\n",
      "Iter number 900 Loss: 0.9028528928756714\n",
      "Iter number 1000 Loss: 0.9735923409461975\n",
      "Iter number 1100 Loss: 0.5922396183013916\n",
      "Iter number 1200 Loss: 0.922799289226532\n",
      "Iter number 1300 Loss: 1.1669161319732666\n",
      "Iter number 1400 Loss: 0.5952207446098328\n",
      "Iter number 1500 Loss: 0.7800314426422119\n",
      "Iter number 1600 Loss: 0.497522234916687\n",
      "Iter number 1700 Loss: 1.2383896112442017\n",
      "Iter number 1800 Loss: 0.8962238430976868\n",
      "Iter number 1900 Loss: 0.5261179804801941\n",
      "Iter number 2000 Loss: 1.6214396953582764\n",
      "Iter number 2100 Loss: 0.7726888060569763\n",
      "Iter number 2200 Loss: 1.4350261688232422\n",
      "Iter number 2300 Loss: 1.1918060779571533\n",
      "Iter number 2400 Loss: 0.3995750844478607\n",
      "Iter number 2500 Loss: 1.0220052003860474\n",
      "Iter number 2600 Loss: 0.9466437101364136\n",
      "Iter number 2700 Loss: 0.8556726574897766\n",
      "Iter number 2800 Loss: 0.7911314368247986\n",
      "Iter number 2900 Loss: 0.9832053780555725\n",
      "Iter number 3000 Loss: 0.6841417551040649\n",
      "Iter number 3100 Loss: 0.7331829071044922\n",
      "Iter number 3200 Loss: 0.6551533341407776\n",
      "Iter number 3300 Loss: 0.6963241696357727\n",
      "Iter number 3400 Loss: 0.6740980744361877\n",
      "Iter number 3500 Loss: 1.3836455345153809\n",
      "Iter number 3600 Loss: 0.7692470550537109\n",
      "\n",
      "Epoch number 1 Loss: 0.6149017810821533\n"
     ]
    }
   ],
   "source": [
    "cnn = CNN()\n",
    "criterion = nn.CrossEntropyLoss()\n",
    "optimizer = optim.Adam(cnn.parameters(), lr=learning_rate)\n",
    "ans = []\n",
    "for j in range(num_epochs):\n",
    "    total_loss = 0\n",
    "    \n",
    "    for i, (x_batch, labels) in enumerate(tqdm.tqdm_notebook(train_loader)):\n",
    "        x_batch = Variable(x_batch) # [32, 1, 99, 81]\n",
    "        labels = Variable(labels)\n",
    "        optimizer.zero_grad()\n",
    "        outputs = cnn(x_batch)\n",
    "        loss = criterion(outputs, labels)\n",
    "        loss.backward()\n",
    "        optimizer.step() \n",
    "        if i % 100 == 0:\n",
    "            print('Iter number ' + str(i) + ' Loss: ' + str(loss.data[0]))\n",
    "        ans.append(float(loss.data[0]))\n",
    "    print('Epoch number ' + str(j) + ' Loss: ' + str(loss.data[0]))\n",
    "            "
   ]
  },
  {
   "cell_type": "markdown",
   "metadata": {
    "_cell_guid": "22992a27-deda-4a35-b34c-4aa87ad173ec",
    "_uuid": "c6d2516a6d5bd3c6a108d7e28565edaa65830958"
   },
   "source": [
    "## Plot"
   ]
  },
  {
   "cell_type": "code",
   "execution_count": 39,
   "metadata": {
    "_cell_guid": "7fa8feb8-236e-46c5-8432-014f7e27484d",
    "_uuid": "56194039cac16f5d86a322e67641cbeafda9857d"
   },
   "outputs": [
    {
     "data": {
      "image/png": "[encoded data removed]",
      "text/plain": [
       "<Figure size 1080x720 with 1 Axes>"
      ]
     },
     "metadata": {},
     "output_type": "display_data"
    }
   ],
   "source": [
    "%matplotlib inline\n",
    "rcParams['figure.figsize'] = 15, 10\n",
    "x = np.arange(len(ans))\n",
    "plt.plot(x, ans)       \n",
    "plt.legend(['loss'])\n",
    "plt.show()"
   ]
  },
  {
   "cell_type": "code",
   "execution_count": null,
   "metadata": {},
   "outputs": [],
   "source": []
  }
 ],
 "metadata": {
  "kernelspec": {
   "display_name": "Python 3",
   "language": "python",
   "name": "python3"
  },
  "language_info": {
   "codemirror_mode": {
    "name": "ipython",
    "version": 3
   },
   "file_extension": ".py",
   "mimetype": "text/x-python",
   "name": "python",
   "nbconvert_exporter": "python",
   "pygments_lexer": "ipython3",
   "version": "3.6.5"
  }
 },
 "nbformat": 4,
 "nbformat_minor": 1
}
